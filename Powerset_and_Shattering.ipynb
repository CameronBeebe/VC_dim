{
 "cells": [
  {
   "cell_type": "code",
   "execution_count": 12,
   "metadata": {},
   "outputs": [],
   "source": [
    "# CB: Figure out a function to do set shattering in Python.\n",
    "# A class (collection of sets) shatters a set if the intersection of\n",
    "# sets in the class can construct (or capture) the powerset of the set to be shattered.\n",
    "# First, we need a function which returns the powerset of a set.\n",
    "# We will use itertools."
   ]
  },
  {
   "cell_type": "code",
   "execution_count": 13,
   "metadata": {},
   "outputs": [],
   "source": [
    "import itertools"
   ]
  },
  {
   "cell_type": "code",
   "execution_count": null,
   "metadata": {},
   "outputs": [],
   "source": [
    "# CB: Sets are collections of (non-repeating) elements.\n",
    "# These can be integers, strings, other sets, etc."
   ]
  },
  {
   "cell_type": "code",
   "execution_count": 34,
   "metadata": {},
   "outputs": [
    {
     "data": {
      "text/latex": [
       "The empty set is represented by empty brackets $\\{\\}$. It is also an element of the powerset of a set.\n"
      ],
      "text/plain": [
       "<IPython.core.display.Latex object>"
      ]
     },
     "metadata": {},
     "output_type": "display_data"
    }
   ],
   "source": [
    "%%latex\n",
    "The empty set is represented by empty brackets $\\{\\}$. It is also an element of the powerset of a set."
   ]
  },
  {
   "cell_type": "code",
   "execution_count": 33,
   "metadata": {},
   "outputs": [
    {
     "data": {
      "text/latex": [
       "An example set is $\\{1,2,three,four\\}$\n"
      ],
      "text/plain": [
       "<IPython.core.display.Latex object>"
      ]
     },
     "metadata": {},
     "output_type": "display_data"
    }
   ],
   "source": [
    "%%latex\n",
    "An example set is $\\{1,2,three,four\\}$. "
   ]
  },
  {
   "cell_type": "code",
   "execution_count": 14,
   "metadata": {},
   "outputs": [],
   "source": [
    "# Python has an in-built type which we can use (and check that repeated elements are excluded).\n",
    "a_set = set([1,2,2,'three','three','four'])"
   ]
  },
  {
   "cell_type": "code",
   "execution_count": 15,
   "metadata": {},
   "outputs": [
    {
     "data": {
      "text/plain": [
       "{1, 2, 'four', 'three'}"
      ]
     },
     "execution_count": 15,
     "metadata": {},
     "output_type": "execute_result"
    }
   ],
   "source": [
    "a_set"
   ]
  },
  {
   "cell_type": "code",
   "execution_count": 46,
   "metadata": {},
   "outputs": [
    {
     "data": {
      "text/latex": [
       "The powerset $\\mathcal{P}(S)$ of a set is all combinations of subsets of that set $S$.  \n",
       "The cardinality (length, number of elements) of the powerset $|\\mathcal{P}(S)|$ is equal to $2^n$, for $|S| = n$.\n"
      ],
      "text/plain": [
       "<IPython.core.display.Latex object>"
      ]
     },
     "metadata": {},
     "output_type": "display_data"
    }
   ],
   "source": [
    "%%latex\n",
    "The powerset $\\mathcal{P}(S)$ of a set is all combinations of subsets of that set $S$.  \n",
    "The cardinality (length, number of elements) of the powerset $|\\mathcal{P}(S)|$ is equal to $2^n$, for $|S| = n$."
   ]
  },
  {
   "cell_type": "code",
   "execution_count": 16,
   "metadata": {},
   "outputs": [],
   "source": [
    "# CB: First step is to create a function which constructs the power set.\n",
    "# This function should take a set of n elements, and return a set\n",
    "# of 2**n elements of all combinations of subsets including the empty set."
   ]
  },
  {
   "cell_type": "code",
   "execution_count": 17,
   "metadata": {},
   "outputs": [],
   "source": [
    "def powerset(input_set):\n",
    "    '''Takes a set as input argument and outputs the powerset of that set.'''\n",
    "    \n",
    "    # Initialize \n",
    "    powerset_iterator = {}\n",
    "    \n",
    "    # Range over combination iterators, and chain them together.\n",
    "    for r in range(len(input_set)+1):\n",
    "        powerset_iterator = itertools.chain(itertools.combinations(input_set,r),powerset_iterator)\n",
    "        \n",
    "    # Create initial temporary set (evaluating iterator).\n",
    "    powerset_temp = set(powerset_iterator)\n",
    "    \n",
    "    # Convert elements in powerset_temp to actual sets (using frozenset).\n",
    "    powerset = set()\n",
    "    for i in powerset_temp:\n",
    "        powerset.add(frozenset(i))\n",
    "    \n",
    "    # Sanity prints.\n",
    "    print('A powerset of the set {} has been constructed with {} elements.'.format(input_set, len(powerset)))\n",
    "    if len(powerset) == 2**(len(input_set)):\n",
    "        print('This is sane: len(powerset) == 2**(len(input_set)), i.e. {} = {}.'.format(len(powerset),2**(len(input_set))))\n",
    "    else:\n",
    "        print('Something is insane.')\n",
    "        \n",
    "    return powerset"
   ]
  },
  {
   "cell_type": "code",
   "execution_count": 18,
   "metadata": {},
   "outputs": [
    {
     "name": "stdout",
     "output_type": "stream",
     "text": [
      "A powerset of the set {1, 2, 'four', 'three'} has been constructed with 16 elements.\n",
      "This is sane: len(powerset) == 2**(len(input_set)), i.e. 16 = 16.\n"
     ]
    }
   ],
   "source": [
    "pwr = powerset(a_set)"
   ]
  },
  {
   "cell_type": "code",
   "execution_count": 19,
   "metadata": {},
   "outputs": [
    {
     "data": {
      "text/plain": [
       "{frozenset(),\n",
       " frozenset({2}),\n",
       " frozenset({'three'}),\n",
       " frozenset({2, 'three'}),\n",
       " frozenset({'four'}),\n",
       " frozenset({'four', 'three'}),\n",
       " frozenset({1}),\n",
       " frozenset({1, 2}),\n",
       " frozenset({2, 'four', 'three'}),\n",
       " frozenset({1, 'four'}),\n",
       " frozenset({2, 'four'}),\n",
       " frozenset({1, 2, 'four'}),\n",
       " frozenset({1, 'three'}),\n",
       " frozenset({1, 2, 'three'}),\n",
       " frozenset({1, 'four', 'three'}),\n",
       " frozenset({1, 2, 'four', 'three'})}"
      ]
     },
     "execution_count": 19,
     "metadata": {},
     "output_type": "execute_result"
    }
   ],
   "source": [
    "pwr"
   ]
  },
  {
   "cell_type": "code",
   "execution_count": 20,
   "metadata": {},
   "outputs": [
    {
     "data": {
      "text/plain": [
       "16"
      ]
     },
     "execution_count": 20,
     "metadata": {},
     "output_type": "execute_result"
    }
   ],
   "source": [
    "len(pwr)"
   ]
  },
  {
   "cell_type": "code",
   "execution_count": 21,
   "metadata": {},
   "outputs": [
    {
     "name": "stdout",
     "output_type": "stream",
     "text": [
      "A powerset of the set {'h', 'i'} has been constructed with 4 elements.\n",
      "This is sane: len(powerset) == 2**(len(input_set)), i.e. 4 = 4.\n"
     ]
    },
    {
     "data": {
      "text/plain": [
       "{frozenset(), frozenset({'i'}), frozenset({'h'}), frozenset({'h', 'i'})}"
      ]
     },
     "execution_count": 21,
     "metadata": {},
     "output_type": "execute_result"
    }
   ],
   "source": [
    "powerset(set('hi'))"
   ]
  },
  {
   "cell_type": "code",
   "execution_count": 22,
   "metadata": {},
   "outputs": [
    {
     "name": "stdout",
     "output_type": "stream",
     "text": [
      "A powerset of the set {'you', 'hi'} has been constructed with 4 elements.\n",
      "This is sane: len(powerset) == 2**(len(input_set)), i.e. 4 = 4.\n"
     ]
    },
    {
     "data": {
      "text/plain": [
       "{frozenset(), frozenset({'hi'}), frozenset({'you'}), frozenset({'hi', 'you'})}"
      ]
     },
     "execution_count": 22,
     "metadata": {},
     "output_type": "execute_result"
    }
   ],
   "source": [
    "powerset(set(['hi','you']))"
   ]
  },
  {
   "cell_type": "code",
   "execution_count": 49,
   "metadata": {},
   "outputs": [],
   "source": [
    "# CB: Now we create another function which checks if one set \"shatters\" another.\n",
    "# A class of sets C shatters another set S if P(S) can be \n",
    "# constructed by intersection of sets in C with S (making the subsets of P(S).)"
   ]
  },
  {
   "cell_type": "code",
   "execution_count": 48,
   "metadata": {},
   "outputs": [
    {
     "data": {
      "text/latex": [
       "$S$ is shattered by $C$ if $P(S) = \\{c \\cap S | c \\in C \\}$\n"
      ],
      "text/plain": [
       "<IPython.core.display.Latex object>"
      ]
     },
     "metadata": {},
     "output_type": "display_data"
    }
   ],
   "source": [
    "%%latex\n",
    "$S$ is shattered by $C$ if $P(S) = \\{c \\cap S | c \\in C \\}$"
   ]
  },
  {
   "cell_type": "code",
   "execution_count": null,
   "metadata": {},
   "outputs": [],
   "source": []
  }
 ],
 "metadata": {
  "kernelspec": {
   "display_name": "Python 3",
   "language": "python",
   "name": "python3"
  },
  "language_info": {
   "codemirror_mode": {
    "name": "ipython",
    "version": 3
   },
   "file_extension": ".py",
   "mimetype": "text/x-python",
   "name": "python",
   "nbconvert_exporter": "python",
   "pygments_lexer": "ipython3",
   "version": "3.7.7"
  }
 },
 "nbformat": 4,
 "nbformat_minor": 4
}
