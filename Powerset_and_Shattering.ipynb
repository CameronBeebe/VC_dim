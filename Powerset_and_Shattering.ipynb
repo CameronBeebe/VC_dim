{
 "cells": [
  {
   "cell_type": "code",
   "execution_count": 1,
   "metadata": {},
   "outputs": [],
   "source": [
    "# CB: Figure out a function to do set shattering in Python.\n",
    "# A class (collection of sets) shatters a set if the intersection of\n",
    "# sets in the class can construct (or capture) the powerset of the set to be shattered.\n",
    "\n",
    "# We will use itertools."
   ]
  },
  {
   "cell_type": "code",
   "execution_count": 2,
   "metadata": {},
   "outputs": [],
   "source": [
    "import itertools"
   ]
  },
  {
   "cell_type": "code",
   "execution_count": 3,
   "metadata": {},
   "outputs": [],
   "source": [
    "# CB: Sets are collections of (non-repeating) elements.\n",
    "# These can be integers, strings, other sets, etc.\n",
    "# In set theory there are technical distinctions distinguishing classes, \n",
    "# families, multisets, sets of sets... these aren't particularly relevant for the basic concepts.\n",
    "# I am using \"class\" as synonymous with a set of sets."
   ]
  },
  {
   "cell_type": "code",
   "execution_count": 4,
   "metadata": {},
   "outputs": [
    {
     "data": {
      "text/latex": [
       "The empty set is represented by empty brackets $\\{\\}$. It is also an element of the powerset of a set.\n"
      ],
      "text/plain": [
       "<IPython.core.display.Latex object>"
      ]
     },
     "metadata": {},
     "output_type": "display_data"
    }
   ],
   "source": [
    "%%latex\n",
    "The empty set is represented by empty brackets $\\{\\}$. It is also an element of the powerset of a set."
   ]
  },
  {
   "cell_type": "code",
   "execution_count": 5,
   "metadata": {},
   "outputs": [
    {
     "data": {
      "text/latex": [
       "An example set is $\\{1,2,three,four\\}$. \n"
      ],
      "text/plain": [
       "<IPython.core.display.Latex object>"
      ]
     },
     "metadata": {},
     "output_type": "display_data"
    }
   ],
   "source": [
    "%%latex\n",
    "An example set is $\\{1,2,three,four\\}$. "
   ]
  },
  {
   "cell_type": "code",
   "execution_count": 6,
   "metadata": {},
   "outputs": [],
   "source": [
    "# Python has an in-built type which we can use (and check that repeated elements are excluded).\n",
    "a_set = set([1,2,2,'three','three','four'])"
   ]
  },
  {
   "cell_type": "code",
   "execution_count": 7,
   "metadata": {},
   "outputs": [
    {
     "data": {
      "text/plain": [
       "{1, 2, 'four', 'three'}"
      ]
     },
     "execution_count": 7,
     "metadata": {},
     "output_type": "execute_result"
    }
   ],
   "source": [
    "a_set"
   ]
  },
  {
   "cell_type": "code",
   "execution_count": 8,
   "metadata": {},
   "outputs": [
    {
     "data": {
      "text/latex": [
       "The powerset $\\mathcal{P}(S)$ of a set is all combinations of subsets of that set $S$.  \n",
       "The cardinality (length, number of elements) of the powerset $|\\mathcal{P}(S)|$ is equal to $2^n$, for $|S| = n$.\n"
      ],
      "text/plain": [
       "<IPython.core.display.Latex object>"
      ]
     },
     "metadata": {},
     "output_type": "display_data"
    }
   ],
   "source": [
    "%%latex\n",
    "The powerset $\\mathcal{P}(S)$ of a set is all combinations of subsets of that set $S$.  \n",
    "The cardinality (length, number of elements) of the powerset $|\\mathcal{P}(S)|$ is equal to $2^n$, for $|S| = n$.  "
   ]
  },
  {
   "cell_type": "code",
   "execution_count": 9,
   "metadata": {},
   "outputs": [],
   "source": [
    "# CB: First step is to create a function which constructs the power set.\n",
    "# This function should take a set of n elements, and return a set\n",
    "# of 2**n elements of all combinations of subsets including the empty set."
   ]
  },
  {
   "cell_type": "code",
   "execution_count": 10,
   "metadata": {},
   "outputs": [],
   "source": [
    "def powerset(input_set):\n",
    "    '''Takes a set as input argument and outputs the powerset of that set.'''\n",
    "    \n",
    "    # Initialize \n",
    "    powerset_iterator = {}\n",
    "    \n",
    "    # Range over combination iterators, and chain them together.\n",
    "    for r in range(len(input_set)+1):\n",
    "        powerset_iterator = itertools.chain(itertools.combinations(input_set,r),powerset_iterator)\n",
    "        \n",
    "    # Create initial temporary set (evaluating iterator).\n",
    "    powerset_temp = set(powerset_iterator)\n",
    "    \n",
    "    # Convert elements in powerset_temp to actual sets (using frozenset).\n",
    "    powerset = set()\n",
    "    for i in powerset_temp:\n",
    "        powerset.add(frozenset(i))\n",
    "    \n",
    "    # Sanity prints.\n",
    "    print('A powerset of the set {} has been constructed with {} elements.'.format(input_set, len(powerset)))\n",
    "    if len(powerset) == 2**(len(input_set)):\n",
    "        print('This is sane: len(powerset) == 2**(len(input_set)), i.e. {} = {}.'.format(len(powerset),2**(len(input_set))))\n",
    "    else:\n",
    "        print('Something is insane.')\n",
    "        \n",
    "    return powerset"
   ]
  },
  {
   "cell_type": "code",
   "execution_count": 11,
   "metadata": {},
   "outputs": [
    {
     "name": "stdout",
     "output_type": "stream",
     "text": [
      "A powerset of the set {'three', 1, 2, 'four'} has been constructed with 16 elements.\n",
      "This is sane: len(powerset) == 2**(len(input_set)), i.e. 16 = 16.\n"
     ]
    }
   ],
   "source": [
    "pwr = powerset(a_set)"
   ]
  },
  {
   "cell_type": "code",
   "execution_count": 12,
   "metadata": {},
   "outputs": [
    {
     "data": {
      "text/plain": [
       "{frozenset(),\n",
       " frozenset({2}),\n",
       " frozenset({2, 'three'}),\n",
       " frozenset({'four'}),\n",
       " frozenset({1}),\n",
       " frozenset({1, 2}),\n",
       " frozenset({1, 'four'}),\n",
       " frozenset({2, 'four'}),\n",
       " frozenset({1, 2, 'four'}),\n",
       " frozenset({'three'}),\n",
       " frozenset({'four', 'three'}),\n",
       " frozenset({1, 'three'}),\n",
       " frozenset({1, 'four', 'three'}),\n",
       " frozenset({2, 'four', 'three'}),\n",
       " frozenset({1, 2, 'three'}),\n",
       " frozenset({1, 2, 'four', 'three'})}"
      ]
     },
     "execution_count": 12,
     "metadata": {},
     "output_type": "execute_result"
    }
   ],
   "source": [
    "pwr"
   ]
  },
  {
   "cell_type": "code",
   "execution_count": 13,
   "metadata": {},
   "outputs": [
    {
     "data": {
      "text/plain": [
       "16"
      ]
     },
     "execution_count": 13,
     "metadata": {},
     "output_type": "execute_result"
    }
   ],
   "source": [
    "len(pwr)"
   ]
  },
  {
   "cell_type": "code",
   "execution_count": 14,
   "metadata": {},
   "outputs": [
    {
     "name": "stdout",
     "output_type": "stream",
     "text": [
      "A powerset of the set {'i', 'h'} has been constructed with 4 elements.\n",
      "This is sane: len(powerset) == 2**(len(input_set)), i.e. 4 = 4.\n"
     ]
    },
    {
     "data": {
      "text/plain": [
       "{frozenset(), frozenset({'i'}), frozenset({'h'}), frozenset({'h', 'i'})}"
      ]
     },
     "execution_count": 14,
     "metadata": {},
     "output_type": "execute_result"
    }
   ],
   "source": [
    "powerset(set('hi'))"
   ]
  },
  {
   "cell_type": "code",
   "execution_count": 15,
   "metadata": {},
   "outputs": [
    {
     "name": "stdout",
     "output_type": "stream",
     "text": [
      "A powerset of the set {'you', 'hi'} has been constructed with 4 elements.\n",
      "This is sane: len(powerset) == 2**(len(input_set)), i.e. 4 = 4.\n"
     ]
    },
    {
     "data": {
      "text/plain": [
       "{frozenset(), frozenset({'you'}), frozenset({'hi'}), frozenset({'hi', 'you'})}"
      ]
     },
     "execution_count": 15,
     "metadata": {},
     "output_type": "execute_result"
    }
   ],
   "source": [
    "powerset(set(['hi','you']))"
   ]
  },
  {
   "cell_type": "code",
   "execution_count": 16,
   "metadata": {},
   "outputs": [],
   "source": [
    "# CB: Now we create another function which checks if one set \"shatters\" another.\n",
    "# A class of sets C shatters another set S if P(S) can be \n",
    "# constructed by intersection of sets in C with S (making the subsets of P(S).)"
   ]
  },
  {
   "cell_type": "code",
   "execution_count": 17,
   "metadata": {},
   "outputs": [
    {
     "data": {
      "text/latex": [
       "$S$ is shattered by $C$ if $P(S) = \\{c \\cap S | c \\in C \\}$\n"
      ],
      "text/plain": [
       "<IPython.core.display.Latex object>"
      ]
     },
     "metadata": {},
     "output_type": "display_data"
    }
   ],
   "source": [
    "%%latex\n",
    "$S$ is shattered by $C$ if $P(S) = \\{c \\cap S | c \\in C \\}$"
   ]
  },
  {
   "cell_type": "code",
   "execution_count": 45,
   "metadata": {},
   "outputs": [],
   "source": [
    "# CB: A quick function to check if a set has been shattered.\n",
    "# It uses our previous powerset function.\n",
    "\n",
    "def shatter_check(set_to_shatter, class_of_sets):\n",
    "    '''\n",
    "    This function takes two arguments as input.\n",
    "    The first argument is a set to shatter.\n",
    "    The second argument is a set of sets (class).\n",
    "    \n",
    "    The function checks whether all subsets of \n",
    "    the powerset of the set to shatter are in\n",
    "    the class (i.e. the intersections exist in the \n",
    "    class and can construct the powerset).\n",
    "    '''\n",
    "    # First calculate the powerset.\n",
    "    pwrset = powerset(set_to_shatter)\n",
    "    \n",
    "    if all(i in class_of_sets for i in pwrset):\n",
    "        return print(\"Shattered.  The size of the class {} is greater or equal to the size of the set to be shattered {} and it's powerset's size {}.\".format(len(class_of_sets),len(set_to_shatter),len(pwrset)))\n",
    "    \n",
    "    else:\n",
    "        return print('Not Shattered')"
   ]
  },
  {
   "cell_type": "code",
   "execution_count": 46,
   "metadata": {},
   "outputs": [],
   "source": [
    "ex_class = pwr.copy()"
   ]
  },
  {
   "cell_type": "code",
   "execution_count": 47,
   "metadata": {},
   "outputs": [
    {
     "data": {
      "text/plain": [
       "{frozenset(),\n",
       " frozenset({2, 'three'}),\n",
       " frozenset({'four'}),\n",
       " frozenset({1}),\n",
       " frozenset({1, 'four'}),\n",
       " frozenset({2}),\n",
       " frozenset({1, 2}),\n",
       " frozenset({1, 2, 'four'}),\n",
       " frozenset({'three'}),\n",
       " frozenset({1, 'four', 'three'}),\n",
       " frozenset({2, 'four', 'three'}),\n",
       " frozenset({1, 2, 'three'}),\n",
       " frozenset({2, 'four'}),\n",
       " frozenset({'four', 'three'}),\n",
       " frozenset({1, 'three'}),\n",
       " frozenset({1, 2, 'four', 'three'}),\n",
       " frozenset({1, 2, 3, 4, 5})}"
      ]
     },
     "execution_count": 47,
     "metadata": {},
     "output_type": "execute_result"
    }
   ],
   "source": [
    "ex_class.add(frozenset([1,2,3,4,5]))\n",
    "ex_class"
   ]
  },
  {
   "cell_type": "code",
   "execution_count": 48,
   "metadata": {},
   "outputs": [
    {
     "data": {
      "text/plain": [
       "{frozenset(),\n",
       " frozenset({2}),\n",
       " frozenset({2, 'three'}),\n",
       " frozenset({'four'}),\n",
       " frozenset({1}),\n",
       " frozenset({1, 2}),\n",
       " frozenset({1, 'four'}),\n",
       " frozenset({2, 'four'}),\n",
       " frozenset({1, 2, 'four'}),\n",
       " frozenset({'three'}),\n",
       " frozenset({'four', 'three'}),\n",
       " frozenset({1, 'three'}),\n",
       " frozenset({1, 'four', 'three'}),\n",
       " frozenset({2, 'four', 'three'}),\n",
       " frozenset({1, 2, 'three'}),\n",
       " frozenset({1, 2, 'four', 'three'})}"
      ]
     },
     "execution_count": 48,
     "metadata": {},
     "output_type": "execute_result"
    }
   ],
   "source": [
    "pwr"
   ]
  },
  {
   "cell_type": "code",
   "execution_count": 49,
   "metadata": {},
   "outputs": [
    {
     "data": {
      "text/plain": [
       "False"
      ]
     },
     "execution_count": 49,
     "metadata": {},
     "output_type": "execute_result"
    }
   ],
   "source": [
    "len(pwr) == len(ex_class)"
   ]
  },
  {
   "cell_type": "code",
   "execution_count": 50,
   "metadata": {},
   "outputs": [
    {
     "name": "stdout",
     "output_type": "stream",
     "text": [
      "A powerset of the set {'three', 1, 2, 'four'} has been constructed with 16 elements.\n",
      "This is sane: len(powerset) == 2**(len(input_set)), i.e. 16 = 16.\n",
      "Shattered.  The size of the class 17 is greater or equal to the size of the set to be shattered 4 and it's powerset's size 16.\n"
     ]
    }
   ],
   "source": [
    "shatter_check(a_set,ex_class)"
   ]
  },
  {
   "cell_type": "code",
   "execution_count": 51,
   "metadata": {},
   "outputs": [],
   "source": [
    "# CB: We could create a brute force shattering function,\n",
    "# which takes a set as input and returns a class that \n",
    "# shatters the input set.  What would this function do?"
   ]
  },
  {
   "cell_type": "code",
   "execution_count": 2,
   "metadata": {},
   "outputs": [],
   "source": [
    "def shatter(input_set):\n",
    "    '''What would this function do?'''\n",
    "    pass"
   ]
  },
  {
   "cell_type": "code",
   "execution_count": 1,
   "metadata": {},
   "outputs": [],
   "source": [
    "from set_shattering import powerset,shatter_check"
   ]
  },
  {
   "cell_type": "code",
   "execution_count": 4,
   "metadata": {},
   "outputs": [],
   "source": [
    "v = 123456"
   ]
  },
  {
   "cell_type": "code",
   "execution_count": 5,
   "metadata": {},
   "outputs": [],
   "source": [
    "another_set = set([23,24,24,25,'twenty siz','whooopdie doooo',v])"
   ]
  },
  {
   "cell_type": "code",
   "execution_count": 6,
   "metadata": {},
   "outputs": [
    {
     "name": "stdout",
     "output_type": "stream",
     "text": [
      "A powerset of the set {123456, 'twenty siz', 'whooopdie doooo', 23, 24, 25} has been constructed with 64 elements.\n",
      "This is sane: len(powerset) == 2**(len(input_set)), i.e. 64 = 64.\n"
     ]
    },
    {
     "data": {
      "text/plain": [
       "{frozenset(),\n",
       " frozenset({123456, 'twenty siz'}),\n",
       " frozenset({23}),\n",
       " frozenset({24}),\n",
       " frozenset({'twenty siz'}),\n",
       " frozenset({23, 24, 25, 'twenty siz'}),\n",
       " frozenset({'whooopdie doooo'}),\n",
       " frozenset({23, 24, 25, 'whooopdie doooo'}),\n",
       " frozenset({23, 24, 'twenty siz', 'whooopdie doooo'}),\n",
       " frozenset({123456, 24, 'twenty siz', 'whooopdie doooo'}),\n",
       " frozenset({25}),\n",
       " frozenset({25, 'twenty siz'}),\n",
       " frozenset({25, 123456}),\n",
       " frozenset({123456, 24, 25, 'twenty siz'}),\n",
       " frozenset({23, 25}),\n",
       " frozenset({24, 25}),\n",
       " frozenset({123456, 24, 'twenty siz'}),\n",
       " frozenset({123456, 23, 24, 25, 'twenty siz'}),\n",
       " frozenset({25, 'whooopdie doooo'}),\n",
       " frozenset({123456, 23, 24, 'whooopdie doooo'}),\n",
       " frozenset({123456, 23, 'twenty siz', 'whooopdie doooo'}),\n",
       " frozenset({23, 24, 25, 123456}),\n",
       " frozenset({23, 'whooopdie doooo'}),\n",
       " frozenset({123456}),\n",
       " frozenset({23, 'twenty siz'}),\n",
       " frozenset({123456, 25, 'twenty siz', 'whooopdie doooo'}),\n",
       " frozenset({24, 'whooopdie doooo'}),\n",
       " frozenset({'twenty siz', 'whooopdie doooo'}),\n",
       " frozenset({23, 25, 'whooopdie doooo'}),\n",
       " frozenset({123456, 'whooopdie doooo'}),\n",
       " frozenset({23, 24}),\n",
       " frozenset({23, 24, 'whooopdie doooo'}),\n",
       " frozenset({23, 24, 25, 'twenty siz', 'whooopdie doooo'}),\n",
       " frozenset({24, 123456}),\n",
       " frozenset({23, 123456}),\n",
       " frozenset({123456, 23, 'twenty siz'}),\n",
       " frozenset({123456, 23, 24, 'twenty siz'}),\n",
       " frozenset({123456, 23, 24, 'twenty siz', 'whooopdie doooo'}),\n",
       " frozenset({123456, 25, 'twenty siz'}),\n",
       " frozenset({123456, 25, 'whooopdie doooo'}),\n",
       " frozenset({24, 'twenty siz'}),\n",
       " frozenset({23, 24, 'twenty siz'}),\n",
       " frozenset({24, 25, 'twenty siz'}),\n",
       " frozenset({123456, 23, 'whooopdie doooo'}),\n",
       " frozenset({24, 25, 'whooopdie doooo'}),\n",
       " frozenset({24, 'twenty siz', 'whooopdie doooo'}),\n",
       " frozenset({23, 25, 123456}),\n",
       " frozenset({123456, 24, 'whooopdie doooo'}),\n",
       " frozenset({24, 25, 123456}),\n",
       " frozenset({123456, 24, 25, 'whooopdie doooo'}),\n",
       " frozenset({23, 25, 'twenty siz'}),\n",
       " frozenset({123456, 'twenty siz', 'whooopdie doooo'}),\n",
       " frozenset({123456, 24, 25, 'twenty siz', 'whooopdie doooo'}),\n",
       " frozenset({23, 24, 25}),\n",
       " frozenset({23, 24, 123456}),\n",
       " frozenset({23, 'twenty siz', 'whooopdie doooo'}),\n",
       " frozenset({23, 25, 'twenty siz', 'whooopdie doooo'}),\n",
       " frozenset({123456, 23, 25, 'twenty siz'}),\n",
       " frozenset({123456, 23, 25, 'whooopdie doooo'}),\n",
       " frozenset({123456, 23, 24, 25, 'whooopdie doooo'}),\n",
       " frozenset({25, 'twenty siz', 'whooopdie doooo'}),\n",
       " frozenset({123456, 23, 25, 'twenty siz', 'whooopdie doooo'}),\n",
       " frozenset({24, 25, 'twenty siz', 'whooopdie doooo'}),\n",
       " frozenset({123456, 23, 24, 25, 'twenty siz', 'whooopdie doooo'})}"
      ]
     },
     "execution_count": 6,
     "metadata": {},
     "output_type": "execute_result"
    }
   ],
   "source": [
    "powerset(another_set)"
   ]
  },
  {
   "cell_type": "code",
   "execution_count": null,
   "metadata": {},
   "outputs": [],
   "source": [
    "# A machine learning model, or a classifier, is an object which attempts to split data.\n",
    "# Or, it tries to respond to inputs (data) by an appropriate action (prediction, classification).\n",
    "# The VC dimension is a measure of the maximum ability of the model to achieve the data separation or classification."
   ]
  }
 ],
 "metadata": {
  "kernelspec": {
   "display_name": "Python 3",
   "language": "python",
   "name": "python3"
  },
  "language_info": {
   "codemirror_mode": {
    "name": "ipython",
    "version": 3
   },
   "file_extension": ".py",
   "mimetype": "text/x-python",
   "name": "python",
   "nbconvert_exporter": "python",
   "pygments_lexer": "ipython3",
   "version": "3.7.7"
  }
 },
 "nbformat": 4,
 "nbformat_minor": 4
}
