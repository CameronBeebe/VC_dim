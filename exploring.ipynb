{
 "cells": [
  {
   "cell_type": "code",
   "execution_count": 1,
   "metadata": {},
   "outputs": [],
   "source": [
    "# Figure out a function to do set shattering in Python."
   ]
  },
  {
   "cell_type": "code",
   "execution_count": 2,
   "metadata": {},
   "outputs": [],
   "source": [
    "import itertools"
   ]
  },
  {
   "cell_type": "code",
   "execution_count": 3,
   "metadata": {},
   "outputs": [],
   "source": [
    "a_set = set([1,2,2,'three','three','four'])"
   ]
  },
  {
   "cell_type": "code",
   "execution_count": 4,
   "metadata": {},
   "outputs": [
    {
     "data": {
      "text/plain": [
       "{1, 2, 'four', 'three'}"
      ]
     },
     "execution_count": 4,
     "metadata": {},
     "output_type": "execute_result"
    }
   ],
   "source": [
    "a_set"
   ]
  },
  {
   "cell_type": "code",
   "execution_count": 5,
   "metadata": {},
   "outputs": [],
   "source": [
    "# First step is to create a function which constructs the power set.\n",
    "# This function should take a set of n elements, and return a set\n",
    "# of 2**n elements of all combinations of subsets including the empty set."
   ]
  },
  {
   "cell_type": "code",
   "execution_count": 6,
   "metadata": {},
   "outputs": [],
   "source": [
    "def powerset(input_set):\n",
    "    '''Takes a set as input argument and outputs the powerset of that set.'''\n",
    "    \n",
    "    # Initialize \n",
    "    powerset_iterator = {}\n",
    "    \n",
    "    # Range over combination iterators, and chain them together.\n",
    "    for r in range(len(input_set)+1):\n",
    "        powerset_iterator = itertools.chain(itertools.combinations(input_set,r),powerset_iterator)\n",
    "        \n",
    "    # Create initial temporary set (evaluating iterator).\n",
    "    powerset_temp = set(powerset_iterator)\n",
    "    \n",
    "    # Convert elements in powerset_temp to actual sets (using frozenset).\n",
    "    powerset = set()\n",
    "    for i in powerset_temp:\n",
    "        powerset.add(frozenset(i))\n",
    "    \n",
    "    # Sanity prints.\n",
    "    print('A powerset of the set {} has been constructed with {} elements.'.format(input_set, len(powerset)))\n",
    "    if len(powerset) == 2**(len(input_set)):\n",
    "        print('This is sane: len(powerset) == 2**(len(input_set)), i.e. {} = {}.'.format(len(powerset),2**(len(input_set))))\n",
    "    else:\n",
    "        print('Something is insane.')\n",
    "        \n",
    "    return powerset"
   ]
  },
  {
   "cell_type": "code",
   "execution_count": 7,
   "metadata": {},
   "outputs": [
    {
     "name": "stdout",
     "output_type": "stream",
     "text": [
      "A powerset of the set {1, 2, 'four', 'three'} has been constructed with 16 elements.\n",
      "This is sane: len(powerset) == 2**(len(input_set)), i.e. 16 = 16.\n"
     ]
    }
   ],
   "source": [
    "pwr = powerset(a_set)"
   ]
  },
  {
   "cell_type": "code",
   "execution_count": 8,
   "metadata": {},
   "outputs": [
    {
     "data": {
      "text/plain": [
       "{frozenset(),\n",
       " frozenset({1, 'four'}),\n",
       " frozenset({2}),\n",
       " frozenset({2, 'three'}),\n",
       " frozenset({1, 2}),\n",
       " frozenset({'four'}),\n",
       " frozenset({1, 2, 'four'}),\n",
       " frozenset({'four', 'three'}),\n",
       " frozenset({2, 'four', 'three'}),\n",
       " frozenset({1}),\n",
       " frozenset({'three'}),\n",
       " frozenset({1, 'three'}),\n",
       " frozenset({1, 'four', 'three'}),\n",
       " frozenset({1, 2, 'three'}),\n",
       " frozenset({2, 'four'}),\n",
       " frozenset({1, 2, 'four', 'three'})}"
      ]
     },
     "execution_count": 8,
     "metadata": {},
     "output_type": "execute_result"
    }
   ],
   "source": [
    "pwr"
   ]
  },
  {
   "cell_type": "code",
   "execution_count": 9,
   "metadata": {},
   "outputs": [
    {
     "data": {
      "text/plain": [
       "16"
      ]
     },
     "execution_count": 9,
     "metadata": {},
     "output_type": "execute_result"
    }
   ],
   "source": [
    "len(pwr)"
   ]
  },
  {
   "cell_type": "code",
   "execution_count": 10,
   "metadata": {},
   "outputs": [
    {
     "name": "stdout",
     "output_type": "stream",
     "text": [
      "A powerset of the set {'i', 'h'} has been constructed with 4 elements.\n",
      "This is sane: len(powerset) == 2**(len(input_set)), i.e. 4 = 4.\n"
     ]
    },
    {
     "data": {
      "text/plain": [
       "{frozenset(), frozenset({'i'}), frozenset({'h'}), frozenset({'h', 'i'})}"
      ]
     },
     "execution_count": 10,
     "metadata": {},
     "output_type": "execute_result"
    }
   ],
   "source": [
    "powerset(set('hi'))"
   ]
  },
  {
   "cell_type": "code",
   "execution_count": 11,
   "metadata": {},
   "outputs": [
    {
     "name": "stdout",
     "output_type": "stream",
     "text": [
      "A powerset of the set {'hi', 'you'} has been constructed with 4 elements.\n",
      "This is sane: len(powerset) == 2**(len(input_set)), i.e. 4 = 4.\n"
     ]
    },
    {
     "data": {
      "text/plain": [
       "{frozenset(), frozenset({'you'}), frozenset({'hi'}), frozenset({'hi', 'you'})}"
      ]
     },
     "execution_count": 11,
     "metadata": {},
     "output_type": "execute_result"
    }
   ],
   "source": [
    "powerset(set(['hi','you']))"
   ]
  },
  {
   "cell_type": "code",
   "execution_count": null,
   "metadata": {},
   "outputs": [],
   "source": []
  }
 ],
 "metadata": {
  "kernelspec": {
   "display_name": "Python 3",
   "language": "python",
   "name": "python3"
  },
  "language_info": {
   "codemirror_mode": {
    "name": "ipython",
    "version": 3
   },
   "file_extension": ".py",
   "mimetype": "text/x-python",
   "name": "python",
   "nbconvert_exporter": "python",
   "pygments_lexer": "ipython3",
   "version": "3.7.7"
  }
 },
 "nbformat": 4,
 "nbformat_minor": 4
}
